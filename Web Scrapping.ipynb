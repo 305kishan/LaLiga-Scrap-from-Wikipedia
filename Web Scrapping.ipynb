{
 "cells": [
  {
   "cell_type": "markdown",
   "metadata": {},
   "source": [
    "### Importing Pandas to perform operations on Table and DataFrame"
   ]
  },
  {
   "cell_type": "code",
   "execution_count": 52,
   "metadata": {},
   "outputs": [],
   "source": [
    "import pandas as pd"
   ]
  },
  {
   "cell_type": "markdown",
   "metadata": {},
   "source": [
    "* > url - Link to <a href=\"https://en.wikipedia.org/wiki/List_of_Spanish_football_champions\">Wikipedia Page</a>\n",
    " of La Liga Winners.\n",
    "* > pd.read_html - Converts HTML Table to Pandas DataFrame."
   ]
  },
  {
   "cell_type": "code",
   "execution_count": 53,
   "metadata": {},
   "outputs": [],
   "source": [
    "url='https://en.wikipedia.org/wiki/List_of_Spanish_football_champions'\n",
    "dataframe = pd.read_html(url, header=0)[2]"
   ]
  },
  {
   "cell_type": "code",
   "execution_count": 54,
   "metadata": {},
   "outputs": [
    {
     "data": {
      "text/html": [
       "<div>\n",
       "<style scoped>\n",
       "    .dataframe tbody tr th:only-of-type {\n",
       "        vertical-align: middle;\n",
       "    }\n",
       "\n",
       "    .dataframe tbody tr th {\n",
       "        vertical-align: top;\n",
       "    }\n",
       "\n",
       "    .dataframe thead th {\n",
       "        text-align: right;\n",
       "    }\n",
       "</style>\n",
       "<table border=\"1\" class=\"dataframe\">\n",
       "  <thead>\n",
       "    <tr style=\"text-align: right;\">\n",
       "      <th></th>\n",
       "      <th>Season</th>\n",
       "      <th>Winner[3]</th>\n",
       "      <th>Runner-up[6][7]</th>\n",
       "      <th>Third place[6][7]</th>\n",
       "      <th>Top scorer(s)[8]</th>\n",
       "      <th>Top scorer's club(s)[8]</th>\n",
       "      <th>Goals[8][9]</th>\n",
       "      <th>Unnamed: 7</th>\n",
       "      <th>Unnamed: 8</th>\n",
       "      <th>Unnamed: 9</th>\n",
       "      <th>Unnamed: 10</th>\n",
       "      <th>Unnamed: 11</th>\n",
       "      <th>Unnamed: 12</th>\n",
       "      <th>Unnamed: 13</th>\n",
       "      <th>Unnamed: 14</th>\n",
       "    </tr>\n",
       "  </thead>\n",
       "  <tbody>\n",
       "    <tr>\n",
       "      <th>0</th>\n",
       "      <td>1929</td>\n",
       "      <td>Barcelona (1)</td>\n",
       "      <td>Real Madrid (1)</td>\n",
       "      <td>Athletic Bilbao</td>\n",
       "      <td>Paco Bienzobas</td>\n",
       "      <td>Real Sociedad</td>\n",
       "      <td>14</td>\n",
       "      <td>NaN</td>\n",
       "      <td>NaN</td>\n",
       "      <td>NaN</td>\n",
       "      <td>NaN</td>\n",
       "      <td>NaN</td>\n",
       "      <td>NaN</td>\n",
       "      <td>NaN</td>\n",
       "      <td>NaN</td>\n",
       "    </tr>\n",
       "    <tr>\n",
       "      <th>1</th>\n",
       "      <td>1929–30</td>\n",
       "      <td>Athletic Bilbao (1)</td>\n",
       "      <td>Barcelona (1)</td>\n",
       "      <td>Arenas</td>\n",
       "      <td>Guillermo Gorostiza</td>\n",
       "      <td>Athletic Bilbao</td>\n",
       "      <td>19</td>\n",
       "      <td>NaN</td>\n",
       "      <td>NaN</td>\n",
       "      <td>NaN</td>\n",
       "      <td>NaN</td>\n",
       "      <td>NaN</td>\n",
       "      <td>NaN</td>\n",
       "      <td>NaN</td>\n",
       "      <td>NaN</td>\n",
       "    </tr>\n",
       "    <tr>\n",
       "      <th>2</th>\n",
       "      <td>1930–31</td>\n",
       "      <td>Athletic Bilbao (2)</td>\n",
       "      <td>Racing Santander (1)</td>\n",
       "      <td>Real Sociedad</td>\n",
       "      <td>Agustín Sauto Arana</td>\n",
       "      <td>Athletic Bilbao</td>\n",
       "      <td>27</td>\n",
       "      <td>NaN</td>\n",
       "      <td>NaN</td>\n",
       "      <td>NaN</td>\n",
       "      <td>NaN</td>\n",
       "      <td>NaN</td>\n",
       "      <td>NaN</td>\n",
       "      <td>NaN</td>\n",
       "      <td>NaN</td>\n",
       "    </tr>\n",
       "    <tr>\n",
       "      <th>3</th>\n",
       "      <td>1931–32</td>\n",
       "      <td>Real Madrid (1)</td>\n",
       "      <td>Athletic Bilbao (1)</td>\n",
       "      <td>Barcelona</td>\n",
       "      <td>Guillermo Gorostiza</td>\n",
       "      <td>Athletic Bilbao</td>\n",
       "      <td>12</td>\n",
       "      <td>NaN</td>\n",
       "      <td>NaN</td>\n",
       "      <td>NaN</td>\n",
       "      <td>NaN</td>\n",
       "      <td>NaN</td>\n",
       "      <td>NaN</td>\n",
       "      <td>NaN</td>\n",
       "      <td>NaN</td>\n",
       "    </tr>\n",
       "    <tr>\n",
       "      <th>4</th>\n",
       "      <td>1932–33</td>\n",
       "      <td>Real Madrid (2)</td>\n",
       "      <td>Athletic Bilbao (2)</td>\n",
       "      <td>Espanyol</td>\n",
       "      <td>Manuel Olivares</td>\n",
       "      <td>Real Madrid</td>\n",
       "      <td>16</td>\n",
       "      <td>NaN</td>\n",
       "      <td>NaN</td>\n",
       "      <td>NaN</td>\n",
       "      <td>NaN</td>\n",
       "      <td>NaN</td>\n",
       "      <td>NaN</td>\n",
       "      <td>NaN</td>\n",
       "      <td>NaN</td>\n",
       "    </tr>\n",
       "  </tbody>\n",
       "</table>\n",
       "</div>"
      ],
      "text/plain": [
       "    Season            Winner[3]       Runner-up[6][7] Third place[6][7]  \\\n",
       "0     1929        Barcelona (1)       Real Madrid (1)   Athletic Bilbao   \n",
       "1  1929–30  Athletic Bilbao (1)         Barcelona (1)            Arenas   \n",
       "2  1930–31  Athletic Bilbao (2)  Racing Santander (1)     Real Sociedad   \n",
       "3  1931–32      Real Madrid (1)   Athletic Bilbao (1)         Barcelona   \n",
       "4  1932–33      Real Madrid (2)   Athletic Bilbao (2)          Espanyol   \n",
       "\n",
       "      Top scorer(s)[8] Top scorer's club(s)[8] Goals[8][9] Unnamed: 7  \\\n",
       "0       Paco Bienzobas           Real Sociedad          14        NaN   \n",
       "1  Guillermo Gorostiza         Athletic Bilbao          19        NaN   \n",
       "2  Agustín Sauto Arana         Athletic Bilbao          27        NaN   \n",
       "3  Guillermo Gorostiza         Athletic Bilbao          12        NaN   \n",
       "4      Manuel Olivares             Real Madrid          16        NaN   \n",
       "\n",
       "  Unnamed: 8 Unnamed: 9 Unnamed: 10 Unnamed: 11 Unnamed: 12 Unnamed: 13  \\\n",
       "0        NaN        NaN         NaN         NaN         NaN         NaN   \n",
       "1        NaN        NaN         NaN         NaN         NaN         NaN   \n",
       "2        NaN        NaN         NaN         NaN         NaN         NaN   \n",
       "3        NaN        NaN         NaN         NaN         NaN         NaN   \n",
       "4        NaN        NaN         NaN         NaN         NaN         NaN   \n",
       "\n",
       "  Unnamed: 14  \n",
       "0         NaN  \n",
       "1         NaN  \n",
       "2         NaN  \n",
       "3         NaN  \n",
       "4         NaN  "
      ]
     },
     "execution_count": 54,
     "metadata": {},
     "output_type": "execute_result"
    }
   ],
   "source": [
    "dataframe.head()"
   ]
  },
  {
   "cell_type": "markdown",
   "metadata": {},
   "source": [
    "#### Renaming Column Names. And Deleting Unnamed Columns."
   ]
  },
  {
   "cell_type": "code",
   "execution_count": 55,
   "metadata": {},
   "outputs": [],
   "source": [
    "dataframe = dataframe.rename(columns={'Winner[3]':'Winner', 'Runner-up[6][7]':'Runner-up','Third place[6][7]':'Third Place','Top scorer(s)[8]':'Top Scorer','Top scorer\\'s club(s)[8]':'Top scorer\\'s club(s)','Goals[8][9]':'Goals'})\n",
    "dataframe = dataframe.loc[:, ~dataframe.columns.str.contains('^Unnamed')]"
   ]
  },
  {
   "cell_type": "code",
   "execution_count": 56,
   "metadata": {},
   "outputs": [
    {
     "data": {
      "text/html": [
       "<div>\n",
       "<style scoped>\n",
       "    .dataframe tbody tr th:only-of-type {\n",
       "        vertical-align: middle;\n",
       "    }\n",
       "\n",
       "    .dataframe tbody tr th {\n",
       "        vertical-align: top;\n",
       "    }\n",
       "\n",
       "    .dataframe thead th {\n",
       "        text-align: right;\n",
       "    }\n",
       "</style>\n",
       "<table border=\"1\" class=\"dataframe\">\n",
       "  <thead>\n",
       "    <tr style=\"text-align: right;\">\n",
       "      <th></th>\n",
       "      <th>Season</th>\n",
       "      <th>Winner</th>\n",
       "      <th>Runner-up</th>\n",
       "      <th>Third Place</th>\n",
       "      <th>Top Scorer</th>\n",
       "      <th>Top scorer's club(s)</th>\n",
       "      <th>Goals</th>\n",
       "    </tr>\n",
       "  </thead>\n",
       "  <tbody>\n",
       "    <tr>\n",
       "      <th>0</th>\n",
       "      <td>1929</td>\n",
       "      <td>Barcelona (1)</td>\n",
       "      <td>Real Madrid (1)</td>\n",
       "      <td>Athletic Bilbao</td>\n",
       "      <td>Paco Bienzobas</td>\n",
       "      <td>Real Sociedad</td>\n",
       "      <td>14</td>\n",
       "    </tr>\n",
       "    <tr>\n",
       "      <th>1</th>\n",
       "      <td>1929–30</td>\n",
       "      <td>Athletic Bilbao (1)</td>\n",
       "      <td>Barcelona (1)</td>\n",
       "      <td>Arenas</td>\n",
       "      <td>Guillermo Gorostiza</td>\n",
       "      <td>Athletic Bilbao</td>\n",
       "      <td>19</td>\n",
       "    </tr>\n",
       "    <tr>\n",
       "      <th>2</th>\n",
       "      <td>1930–31</td>\n",
       "      <td>Athletic Bilbao (2)</td>\n",
       "      <td>Racing Santander (1)</td>\n",
       "      <td>Real Sociedad</td>\n",
       "      <td>Agustín Sauto Arana</td>\n",
       "      <td>Athletic Bilbao</td>\n",
       "      <td>27</td>\n",
       "    </tr>\n",
       "    <tr>\n",
       "      <th>3</th>\n",
       "      <td>1931–32</td>\n",
       "      <td>Real Madrid (1)</td>\n",
       "      <td>Athletic Bilbao (1)</td>\n",
       "      <td>Barcelona</td>\n",
       "      <td>Guillermo Gorostiza</td>\n",
       "      <td>Athletic Bilbao</td>\n",
       "      <td>12</td>\n",
       "    </tr>\n",
       "    <tr>\n",
       "      <th>4</th>\n",
       "      <td>1932–33</td>\n",
       "      <td>Real Madrid (2)</td>\n",
       "      <td>Athletic Bilbao (2)</td>\n",
       "      <td>Espanyol</td>\n",
       "      <td>Manuel Olivares</td>\n",
       "      <td>Real Madrid</td>\n",
       "      <td>16</td>\n",
       "    </tr>\n",
       "  </tbody>\n",
       "</table>\n",
       "</div>"
      ],
      "text/plain": [
       "    Season               Winner             Runner-up      Third Place  \\\n",
       "0     1929        Barcelona (1)       Real Madrid (1)  Athletic Bilbao   \n",
       "1  1929–30  Athletic Bilbao (1)         Barcelona (1)           Arenas   \n",
       "2  1930–31  Athletic Bilbao (2)  Racing Santander (1)    Real Sociedad   \n",
       "3  1931–32      Real Madrid (1)   Athletic Bilbao (1)        Barcelona   \n",
       "4  1932–33      Real Madrid (2)   Athletic Bilbao (2)         Espanyol   \n",
       "\n",
       "            Top Scorer Top scorer's club(s) Goals  \n",
       "0       Paco Bienzobas        Real Sociedad    14  \n",
       "1  Guillermo Gorostiza      Athletic Bilbao    19  \n",
       "2  Agustín Sauto Arana      Athletic Bilbao    27  \n",
       "3  Guillermo Gorostiza      Athletic Bilbao    12  \n",
       "4      Manuel Olivares          Real Madrid    16  "
      ]
     },
     "execution_count": 56,
     "metadata": {},
     "output_type": "execute_result"
    }
   ],
   "source": [
    "dataframe.head()"
   ]
  },
  {
   "cell_type": "markdown",
   "metadata": {},
   "source": [
    "#### Removing Parantheses, Numbers and Special Characters from DataFrame Entries."
   ]
  },
  {
   "cell_type": "code",
   "execution_count": 57,
   "metadata": {
    "run_control": {
     "marked": false
    }
   },
   "outputs": [],
   "source": [
    "dataframe['Winner'] = dataframe['Winner'].map(lambda x: x.rstrip('*'))\n",
    "dataframe['Winner'] = dataframe['Winner'].map(lambda x: x.rstrip('†'))\n",
    "dataframe['Winner'] = dataframe['Winner'].map(lambda x: x.rstrip('‡'))\n",
    "dataframe['Winner'] = dataframe['Winner'].str.replace('\\d+', '')\n",
    "dataframe['Winner'] =  dataframe['Winner'].apply(lambda x: x.replace('(','').replace(')',''))"
   ]
  },
  {
   "cell_type": "code",
   "execution_count": 58,
   "metadata": {},
   "outputs": [],
   "source": [
    "dataframe['Runner-up'] = dataframe['Runner-up'].str.replace('\\d+', '')\n",
    "dataframe['Runner-up'] =  dataframe['Runner-up'].apply(lambda x: x.replace('(','').replace(')',''))"
   ]
  },
  {
   "cell_type": "markdown",
   "metadata": {},
   "source": [
    "#### Cleaned DataFrame"
   ]
  },
  {
   "cell_type": "code",
   "execution_count": 59,
   "metadata": {
    "scrolled": true
   },
   "outputs": [
    {
     "data": {
      "text/html": [
       "<div>\n",
       "<style scoped>\n",
       "    .dataframe tbody tr th:only-of-type {\n",
       "        vertical-align: middle;\n",
       "    }\n",
       "\n",
       "    .dataframe tbody tr th {\n",
       "        vertical-align: top;\n",
       "    }\n",
       "\n",
       "    .dataframe thead th {\n",
       "        text-align: right;\n",
       "    }\n",
       "</style>\n",
       "<table border=\"1\" class=\"dataframe\">\n",
       "  <thead>\n",
       "    <tr style=\"text-align: right;\">\n",
       "      <th></th>\n",
       "      <th>Season</th>\n",
       "      <th>Winner</th>\n",
       "      <th>Runner-up</th>\n",
       "      <th>Third Place</th>\n",
       "      <th>Top Scorer</th>\n",
       "      <th>Top scorer's club(s)</th>\n",
       "      <th>Goals</th>\n",
       "    </tr>\n",
       "  </thead>\n",
       "  <tbody>\n",
       "    <tr>\n",
       "      <th>0</th>\n",
       "      <td>1929</td>\n",
       "      <td>Barcelona</td>\n",
       "      <td>Real Madrid</td>\n",
       "      <td>Athletic Bilbao</td>\n",
       "      <td>Paco Bienzobas</td>\n",
       "      <td>Real Sociedad</td>\n",
       "      <td>14</td>\n",
       "    </tr>\n",
       "    <tr>\n",
       "      <th>1</th>\n",
       "      <td>1929–30</td>\n",
       "      <td>Athletic Bilbao</td>\n",
       "      <td>Barcelona</td>\n",
       "      <td>Arenas</td>\n",
       "      <td>Guillermo Gorostiza</td>\n",
       "      <td>Athletic Bilbao</td>\n",
       "      <td>19</td>\n",
       "    </tr>\n",
       "    <tr>\n",
       "      <th>2</th>\n",
       "      <td>1930–31</td>\n",
       "      <td>Athletic Bilbao</td>\n",
       "      <td>Racing Santander</td>\n",
       "      <td>Real Sociedad</td>\n",
       "      <td>Agustín Sauto Arana</td>\n",
       "      <td>Athletic Bilbao</td>\n",
       "      <td>27</td>\n",
       "    </tr>\n",
       "    <tr>\n",
       "      <th>3</th>\n",
       "      <td>1931–32</td>\n",
       "      <td>Real Madrid</td>\n",
       "      <td>Athletic Bilbao</td>\n",
       "      <td>Barcelona</td>\n",
       "      <td>Guillermo Gorostiza</td>\n",
       "      <td>Athletic Bilbao</td>\n",
       "      <td>12</td>\n",
       "    </tr>\n",
       "    <tr>\n",
       "      <th>4</th>\n",
       "      <td>1932–33</td>\n",
       "      <td>Real Madrid</td>\n",
       "      <td>Athletic Bilbao</td>\n",
       "      <td>Espanyol</td>\n",
       "      <td>Manuel Olivares</td>\n",
       "      <td>Real Madrid</td>\n",
       "      <td>16</td>\n",
       "    </tr>\n",
       "  </tbody>\n",
       "</table>\n",
       "</div>"
      ],
      "text/plain": [
       "    Season            Winner          Runner-up      Third Place  \\\n",
       "0     1929        Barcelona        Real Madrid   Athletic Bilbao   \n",
       "1  1929–30  Athletic Bilbao          Barcelona            Arenas   \n",
       "2  1930–31  Athletic Bilbao   Racing Santander     Real Sociedad   \n",
       "3  1931–32      Real Madrid    Athletic Bilbao         Barcelona   \n",
       "4  1932–33      Real Madrid    Athletic Bilbao          Espanyol   \n",
       "\n",
       "            Top Scorer Top scorer's club(s) Goals  \n",
       "0       Paco Bienzobas        Real Sociedad    14  \n",
       "1  Guillermo Gorostiza      Athletic Bilbao    19  \n",
       "2  Agustín Sauto Arana      Athletic Bilbao    27  \n",
       "3  Guillermo Gorostiza      Athletic Bilbao    12  \n",
       "4      Manuel Olivares          Real Madrid    16  "
      ]
     },
     "execution_count": 59,
     "metadata": {},
     "output_type": "execute_result"
    }
   ],
   "source": [
    "dataframe.head()"
   ]
  },
  {
   "cell_type": "markdown",
   "metadata": {},
   "source": [
    "#### Generating CSV file from DataFrame"
   ]
  },
  {
   "cell_type": "code",
   "execution_count": 60,
   "metadata": {},
   "outputs": [],
   "source": [
    "dataframe.to_csv('La Liga Champions.csv')"
   ]
  }
 ],
 "metadata": {
  "kernelspec": {
   "display_name": "Python 3",
   "language": "python",
   "name": "python3"
  },
  "language_info": {
   "codemirror_mode": {
    "name": "ipython",
    "version": 3
   },
   "file_extension": ".py",
   "mimetype": "text/x-python",
   "name": "python",
   "nbconvert_exporter": "python",
   "pygments_lexer": "ipython3",
   "version": "3.6.5"
  }
 },
 "nbformat": 4,
 "nbformat_minor": 2
}
